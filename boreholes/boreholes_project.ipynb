{
 "cells": [
  {
   "cell_type": "markdown",
   "metadata": {},
   "source": [
    "# Выбор локации для скважины"
   ]
  },
  {
   "cell_type": "markdown",
   "metadata": {},
   "source": [
    "Допустим, вы работаете в добывающей компании «ГлавРосГосНефть». Нужно решить, где бурить новую скважину.\n",
    "\n",
    "Вам предоставлены пробы нефти в трёх регионах: в каждом 10 000 месторождений, где измерили качество нефти и объём её запасов. Постройте модель машинного обучения, которая поможет определить регион, где добыча принесёт наибольшую прибыль. Проанализируйте возможную прибыль и риски техникой *Bootstrap.*\n",
    "\n",
    "Шаги для выбора локации:\n",
    "\n",
    "- В избранном регионе ищут месторождения, для каждого определяют значения признаков;\n",
    "- Строят модель и оценивают объём запасов;\n",
    "- Выбирают месторождения с самым высокими оценками значений. Количество месторождений зависит от бюджета компании и стоимости разработки одной скважины;\n",
    "- Прибыль равна суммарной прибыли отобранных месторождений."
   ]
  },
  {
   "cell_type": "markdown",
   "metadata": {},
   "source": [
    "## Загрузка и подготовка данных"
   ]
  },
  {
   "cell_type": "code",
   "execution_count": 4,
   "metadata": {},
   "outputs": [],
   "source": [
    "import pandas as pd\n",
    "from sklearn.linear_model import LinearRegression\n",
    "from sklearn.model_selection import train_test_split\n",
    "from sklearn.metrics import root_mean_squared_error as rmse\n",
    "import matplotlib.pyplot as plt"
   ]
  },
  {
   "cell_type": "code",
   "execution_count": 5,
   "metadata": {},
   "outputs": [],
   "source": [
    "data_0 = pd.read_csv('../datasets/geo_data_0.csv')\n",
    "data_1 = pd.read_csv('../datasets/geo_data_1.csv')\n",
    "data_2 = pd.read_csv('../datasets/geo_data_2.csv')"
   ]
  },
  {
   "cell_type": "code",
   "execution_count": 6,
   "metadata": {},
   "outputs": [
    {
     "data": {
      "text/plain": [
       "(100000, 100000, 100000)"
      ]
     },
     "execution_count": 6,
     "metadata": {},
     "output_type": "execute_result"
    }
   ],
   "source": [
    "data_0.shape[0], data_1.shape[0], data_2.shape[0]"
   ]
  },
  {
   "cell_type": "code",
   "execution_count": 7,
   "metadata": {},
   "outputs": [
    {
     "data": {
      "text/plain": [
       "100000"
      ]
     },
     "execution_count": 7,
     "metadata": {},
     "output_type": "execute_result"
    }
   ],
   "source": [
    "data_0['product'].nunique()"
   ]
  },
  {
   "cell_type": "code",
   "execution_count": 8,
   "metadata": {},
   "outputs": [
    {
     "data": {
      "text/plain": [
       "12"
      ]
     },
     "execution_count": 8,
     "metadata": {},
     "output_type": "execute_result"
    }
   ],
   "source": [
    "data_1['product'].nunique()"
   ]
  },
  {
   "cell_type": "code",
   "execution_count": 9,
   "metadata": {},
   "outputs": [
    {
     "name": "stdout",
     "output_type": "stream",
     "text": [
      "<class 'pandas.core.frame.DataFrame'>\n",
      "RangeIndex: 100000 entries, 0 to 99999\n",
      "Data columns (total 5 columns):\n",
      " #   Column   Non-Null Count   Dtype  \n",
      "---  ------   --------------   -----  \n",
      " 0   id       100000 non-null  object \n",
      " 1   f0       100000 non-null  float64\n",
      " 2   f1       100000 non-null  float64\n",
      " 3   f2       100000 non-null  float64\n",
      " 4   product  100000 non-null  float64\n",
      "dtypes: float64(4), object(1)\n",
      "memory usage: 3.8+ MB\n"
     ]
    }
   ],
   "source": [
    "data_0.info()"
   ]
  },
  {
   "cell_type": "markdown",
   "metadata": {},
   "source": [
    "## Обучение и проверка модели"
   ]
  },
  {
   "cell_type": "code",
   "execution_count": 11,
   "metadata": {},
   "outputs": [],
   "source": [
    "X_train_0, X_test_0, y_train_0, y_test_0 = train_test_split(\n",
    "    data_0.drop(['id', 'product'], axis=1), \n",
    "    data_0['product'], \n",
    "    random_state=0\n",
    ")\n",
    "X_train_1, X_test_1, y_train_1, y_test_1 = train_test_split(\n",
    "    data_1.drop(['id', 'product'], axis=1), \n",
    "    data_1['product'], \n",
    "    random_state=0\n",
    ")\n",
    "X_train_2, X_test_2, y_train_2, y_test_2 = train_test_split(\n",
    "    data_2.drop(['id', 'product'], axis=1), \n",
    "    data_2['product'], \n",
    "    random_state=0\n",
    ")"
   ]
  },
  {
   "cell_type": "code",
   "execution_count": 12,
   "metadata": {},
   "outputs": [
    {
     "name": "stdout",
     "output_type": "stream",
     "text": [
      "Средний запас предсказанного сырья для 0 региона: 92.27144852242301, RMSE: 37.48100896950594\n",
      "Средний запас предсказанного сырья для 1 региона: 69.15162398290752, RMSE: 0.8872573052219334\n",
      "Средний запас предсказанного сырья для 2 региона: 94.70753129105672, RMSE: 40.31290686044374\n"
     ]
    }
   ],
   "source": [
    "model_0 = LinearRegression().fit(X_train_0, y_train_0)\n",
    "model_1 = LinearRegression().fit(X_train_1, y_train_1)\n",
    "model_2 = LinearRegression().fit(X_train_2, y_train_2)\n",
    "\n",
    "pred_0 = model_0.predict(X_test_0)\n",
    "pred_1 = model_1.predict(X_test_1)\n",
    "pred_2 = model_2.predict(X_test_2)\n",
    "\n",
    "print(f'Средний запас предсказанного сырья для 0 региона: {pred_0.mean()}, RMSE: {rmse(y_test_0, pred_0)}')\n",
    "print(f'Средний запас предсказанного сырья для 1 региона: {pred_1.mean()}, RMSE: {rmse(y_test_1, pred_1)}')\n",
    "print(f'Средний запас предсказанного сырья для 2 региона: {pred_2.mean()}, RMSE: {rmse(y_test_2, pred_2)}')"
   ]
  },
  {
   "cell_type": "markdown",
   "metadata": {},
   "source": [
    "## Подготовка к расчёту прибыли"
   ]
  },
  {
   "cell_type": "code",
   "execution_count": 120,
   "metadata": {},
   "outputs": [
    {
     "data": {
      "text/plain": [
       "111.11111111111111"
      ]
     },
     "execution_count": 120,
     "metadata": {},
     "output_type": "execute_result"
    }
   ],
   "source": [
    "budget = 10**10\n",
    "income_per_unit = 450_000\n",
    "sufficient_volume = budget / income_per_unit\n",
    "sufficient_volume / 200"
   ]
  },
  {
   "cell_type": "markdown",
   "metadata": {},
   "source": [
    "## Расчёт прибыли и рисков "
   ]
  },
  {
   "cell_type": "code",
   "execution_count": 16,
   "metadata": {},
   "outputs": [],
   "source": [
    "y_0 = pd.DataFrame({'target': y_test_0, 'predictions': pred_0})\n",
    "y_1 = pd.DataFrame({'target': y_test_1, 'predictions': pred_1})\n",
    "y_2 = pd.DataFrame({'target': y_test_2, 'predictions': pred_2})"
   ]
  },
  {
   "cell_type": "code",
   "execution_count": 17,
   "metadata": {},
   "outputs": [
    {
     "data": {
      "text/plain": [
       "29696.462399128774"
      ]
     },
     "execution_count": 17,
     "metadata": {},
     "output_type": "execute_result"
    }
   ],
   "source": [
    "y_0.sort_values(by='predictions', ascending=False)[:200].target.sum()"
   ]
  },
  {
   "cell_type": "code",
   "execution_count": 92,
   "metadata": {},
   "outputs": [],
   "source": [
    "def profit_calculation(y):\n",
    "    return y.sort_values(by='predictions', ascending=False)[:200].target.sum() * income_per_unit - budget\n",
    "\n",
    "def get_profit_distr(y):\n",
    "    return [profit_calculation(sample) for sample in (y.sample(500) for _ in range(1000))]"
   ]
  },
  {
   "cell_type": "code",
   "execution_count": 94,
   "metadata": {},
   "outputs": [],
   "source": [
    "profit_distr_0 = get_profit_distr(y_0)\n",
    "profit_distr_1 = get_profit_distr(y_1)\n",
    "profit_distr_2 = get_profit_distr(y_2)"
   ]
  },
  {
   "cell_type": "code",
   "execution_count": 108,
   "metadata": {},
   "outputs": [
    {
     "name": "stdout",
     "output_type": "stream",
     "text": [
      "Регион 0\n",
      "Средняя прибыль: 452678190.1829721\n",
      "95% доверительный интервал: (-74848111.88005123, 981795453.265238)\n",
      "Риск убытков: 0.044\n",
      "\n",
      "Регион 1\n",
      "Средняя прибыль: 470030613.870706\n",
      "95% доверительный интервал: (73199223.7660636, 858100473.2780471)\n",
      "Риск убытков: 0.009\n",
      "\n",
      "Регион 2\n",
      "Средняя прибыль: 386647512.06374806\n",
      "95% доверительный интервал: (-142304375.35782957, 903540990.1753979)\n",
      "Риск убытков: 0.068\n",
      "\n"
     ]
    },
    {
     "data": {
      "image/png": "[encoded data removed]",
      "text/plain": [
       "<Figure size 640x480 with 1 Axes>"
      ]
     },
     "metadata": {},
     "output_type": "display_data"
    },
    {
     "data": {
      "image/png": "[encoded data removed]",
      "text/plain": [
       "<Figure size 640x480 with 1 Axes>"
      ]
     },
     "metadata": {},
     "output_type": "display_data"
    },
    {
     "data": {
      "image/png": "[encoded data removed]",
      "text/plain": [
       "<Figure size 640x480 with 1 Axes>"
      ]
     },
     "metadata": {},
     "output_type": "display_data"
    }
   ],
   "source": [
    "for i, profit in enumerate([profit_distr_0, profit_distr_1, profit_distr_2]):\n",
    "    prof = pd.Series(profit)\n",
    "    print(f'Регион {i}')\n",
    "    print(f'Средняя прибыль: {prof.mean()}')\n",
    "    print(f'95% доверительный интервал: {prof.quantile(0.025), prof.quantile(0.975)}')\n",
    "    print(f'Риск убытков: {(prof < 0).sum() / len(prof)}\\n')\n",
    "\n",
    "    plt.figure()\n",
    "    plt.hist(profit, bins=100, edgecolor='black')\n",
    "    plt.title(f'Регион {i}')\n",
    "    plt.hist(profit, bins=100)"
   ]
  }
 ],
 "metadata": {
  "kernelspec": {
   "display_name": "Python 3 (ipykernel)",
   "language": "python",
   "name": "python3"
  },
  "language_info": {
   "codemirror_mode": {
    "name": "ipython",
    "version": 3
   },
   "file_extension": ".py",
   "mimetype": "text/x-python",
   "name": "python",
   "nbconvert_exporter": "python",
   "pygments_lexer": "ipython3",
   "version": "3.12.4"
  },
  "toc": {
   "base_numbering": 1,
   "nav_menu": {},
   "number_sections": true,
   "sideBar": true,
   "skip_h1_title": true,
   "title_cell": "Table of Contents",
   "title_sidebar": "Contents",
   "toc_cell": false,
   "toc_position": {},
   "toc_section_display": true,
   "toc_window_display": false
  }
 },
 "nbformat": 4,
 "nbformat_minor": 4
}
