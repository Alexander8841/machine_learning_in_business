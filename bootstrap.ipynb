{
 "cells": [
  {
   "cell_type": "code",
   "execution_count": 1,
   "id": "b561f49b-33fc-4d9f-99be-584136e46c47",
   "metadata": {},
   "outputs": [],
   "source": [
    "import pandas as pd\n",
    "import scipy.stats as st\n",
    "import numpy as np"
   ]
  },
  {
   "cell_type": "markdown",
   "id": "2471cdb2-3253-4139-9c45-51717e18afa3",
   "metadata": {},
   "source": [
    "### Нахождение доверительного интервала"
   ]
  },
  {
   "cell_type": "code",
   "execution_count": 3,
   "id": "269dcd60-3b2a-4f0a-8fbe-373c10cef8e3",
   "metadata": {
    "scrolled": true
   },
   "outputs": [
    {
     "name": "stdout",
     "output_type": "stream",
     "text": [
      "Cреднеео: 470.5285714285714\n",
      "95%-ый доверительный интервал: (463.3577536499037, 477.6993892072391)\n",
      "p_value: 0.05\n"
     ]
    }
   ],
   "source": [
    "sample = pd.Series([\n",
    "    439, 518, 452, 505, 493, 470, 498, 442, 497, \n",
    "    423, 524, 442, 459, 452, 463, 488, 497, 500,\n",
    "    476, 501, 456, 425, 438, 435, 516, 453, 505, \n",
    "    441, 477, 469, 497, 502, 442, 449, 465, 429,\n",
    "    442, 472, 466, 431, 490, 475, 447, 435, 482, \n",
    "    434, 525, 510, 494, 493, 495, 499, 455, 464,\n",
    "    509, 432, 476, 438, 512, 423, 428, 499, 492, \n",
    "    493, 467, 493, 468, 420, 513, 427])\n",
    "\n",
    "confidence_interval = st.t.interval(0.95, len(sample)-1, sample.mean(), sample.sem())\n",
    "\n",
    "print(\"Cреднеео:\", sample.mean())\n",
    "print(\"95%-ый доверительный интервал:\", confidence_interval)\n",
    "print(\"p_value:\", st.ttest_1samp(sample, confidence_interval[0]).pvalue.round(8))"
   ]
  },
  {
   "cell_type": "markdown",
   "id": "a18864d1-4008-4099-81e1-100c075723d2",
   "metadata": {},
   "source": [
    "### Нахождение оценки стандартной ошибки с помощью bootstrap"
   ]
  },
  {
   "cell_type": "code",
   "execution_count": 6,
   "id": "5f62084b-6722-4f75-85bc-687609904d23",
   "metadata": {},
   "outputs": [
    {
     "data": {
      "text/plain": [
       "3.565998395920006"
      ]
     },
     "execution_count": 6,
     "metadata": {},
     "output_type": "execute_result"
    }
   ],
   "source": [
    "pd.Series(sample.sample(frac=1, replace=True).mean() for _ in range(1000000)).std()"
   ]
  },
  {
   "cell_type": "code",
   "execution_count": 8,
   "id": "70095ee7-ab0b-4635-96b9-e382eaf448e9",
   "metadata": {},
   "outputs": [
    {
     "data": {
      "text/plain": [
       "3.5944932249097254"
      ]
     },
     "execution_count": 8,
     "metadata": {},
     "output_type": "execute_result"
    }
   ],
   "source": [
    "sample.sem()"
   ]
  },
  {
   "cell_type": "code",
   "execution_count": 12,
   "id": "603aa5e9-4eb8-41f6-9e5b-586af3307774",
   "metadata": {},
   "outputs": [
    {
     "data": {
      "text/plain": [
       "3.5944932249097254"
      ]
     },
     "execution_count": 12,
     "metadata": {},
     "output_type": "execute_result"
    }
   ],
   "source": [
    "sample.std() / len(sample)**0.5"
   ]
  },
  {
   "cell_type": "markdown",
   "id": "1e87dcb6-c78b-4aab-a725-147c4bddb302",
   "metadata": {},
   "source": [
    "### Bootstrap"
   ]
  },
  {
   "cell_type": "code",
   "execution_count": 30,
   "id": "52a2f6eb-5159-47e4-a292-6242b2fbf2e6",
   "metadata": {},
   "outputs": [
    {
     "data": {
      "text/plain": [
       "('Разность средних чеков:', 0.7682000000000357)"
      ]
     },
     "execution_count": 30,
     "metadata": {},
     "output_type": "execute_result"
    }
   ],
   "source": [
    "import pandas as pd\n",
    "import numpy as np\n",
    "samples_A = pd.Series([\n",
    "     98.24,  97.77,  95.56,  99.49, 101.4 , 105.35,  95.83,  93.02,\n",
    "    101.37,  95.66,  98.34, 100.75, 104.93,  97.  ,  95.46, 100.03,\n",
    "    102.34,  98.23,  97.05,  97.76,  98.63,  98.82,  99.51,  99.31,\n",
    "     98.58,  96.84,  93.71, 101.38, 100.6 , 103.68, 104.78, 101.51,\n",
    "    100.89, 102.27,  99.87,  94.83,  95.95, 105.2 ,  97.  ,  95.54,\n",
    "     98.38,  99.81, 103.34, 101.14, 102.19,  94.77,  94.74,  99.56,\n",
    "    102.  , 100.95, 102.19, 103.75, 103.65,  95.07, 103.53, 100.42,\n",
    "     98.09,  94.86, 101.47, 103.07, 100.15, 100.32, 100.89, 101.23,\n",
    "     95.95, 103.69, 100.09,  96.28,  96.11,  97.63,  99.45, 100.81,\n",
    "    102.18,  94.92,  98.89, 101.48, 101.29,  94.43, 101.55,  95.85,\n",
    "    100.16,  97.49, 105.17, 104.83, 101.9 , 100.56, 104.91,  94.17,\n",
    "    103.48, 100.55, 102.66, 100.62,  96.93, 102.67, 101.27,  98.56,\n",
    "    102.41, 100.69,  99.67, 100.99])\n",
    "samples_B = pd.Series([\n",
    "    101.67, 102.27,  97.01, 103.46, 100.76, 101.19,  99.11,  97.59,\n",
    "    101.01, 101.45,  94.8 , 101.55,  96.38,  99.03, 102.83,  97.32,\n",
    "     98.25,  97.17, 101.1 , 102.57, 104.59, 105.63,  98.93, 103.87,\n",
    "     98.48, 101.14, 102.24,  98.55, 105.61, 100.06,  99.  , 102.53,\n",
    "    101.56, 102.68, 103.26,  96.62,  99.48, 107.6 ,  99.87, 103.58,\n",
    "    105.05, 105.69,  94.52,  99.51,  99.81,  99.44,  97.35, 102.97,\n",
    "     99.77,  99.59, 102.12, 104.29,  98.31,  98.83,  96.83,  99.2 ,\n",
    "     97.88, 102.34, 102.04,  99.88,  99.69, 103.43, 100.71,  92.71,\n",
    "     99.99,  99.39,  99.19,  99.29, 100.34, 101.08, 100.29,  93.83,\n",
    "    103.63,  98.88, 105.36, 101.82, 100.86, 100.75,  99.4 ,  95.37,\n",
    "    107.96,  97.69, 102.17,  99.41,  98.97,  97.96,  98.31,  97.09,\n",
    "    103.92, 100.98, 102.76,  98.24,  97.  ,  98.99, 103.54,  99.72,\n",
    "    101.62, 100.62, 102.79, 104.19])\n",
    "\n",
    "AB_difference = samples_B.mean() - samples_A.mean()\n",
    "\"Разность средних чеков:\", AB_difference"
   ]
  },
  {
   "cell_type": "markdown",
   "id": "9d2b3b6b-efea-455e-813b-2a62997a658d",
   "metadata": {},
   "source": [
    "#### Проверка нулевой гипотезы"
   ]
  },
  {
   "cell_type": "code",
   "execution_count": 137,
   "id": "ab9835e3-7b08-42a0-9dff-2f540b9fa6ae",
   "metadata": {},
   "outputs": [
    {
     "name": "stdout",
     "output_type": "stream",
     "text": [
      "p-value = 0.034\n",
      "Отвергаем нулевую гипотезу: скорее всего, средний чек увеличился\n"
     ]
    }
   ],
   "source": [
    "alpha = 0.05\n",
    "state = np.random.RandomState(12345)\n",
    "bootstrap_samples = 1000\n",
    "count = 0\n",
    "\n",
    "for i in range(bootstrap_samples):\n",
    "    united_samples = pd.concat([samples_A, samples_B])\n",
    "    size = len(united_samples)//2\n",
    "    subsample = united_samples.sample(frac=1, random_state=state, replace=True)\n",
    "    subsample_A = subsample[:size]\n",
    "    subsample_B = subsample[size:]\n",
    "    bootstrap_difference = subsample_B.mean() - subsample_A.mean()\n",
    "    if bootstrap_difference >= AB_difference:\n",
    "        count += 1\n",
    "\n",
    "pvalue = count / bootstrap_samples\n",
    "print('p-value =', pvalue)\n",
    "if pvalue < alpha:\n",
    "    print(\"Отвергаем нулевую гипотезу: скорее всего, средний чек увеличился\")\n",
    "else:\n",
    "    print(\"Не получилось отвергнуть нулевую гипотезу: скорее всего, средний чек не увеличился\")"
   ]
  },
  {
   "cell_type": "code",
   "execution_count": 125,
   "id": "5290096a-122c-4f3b-9f8d-6580f22bd36a",
   "metadata": {},
   "outputs": [
    {
     "data": {
      "text/plain": [
       "TtestResult(statistic=-1.8289566175344536, pvalue=0.034455195927867825, df=198.0)"
      ]
     },
     "execution_count": 125,
     "metadata": {},
     "output_type": "execute_result"
    }
   ],
   "source": [
    "st.ttest_ind(samples_A, samples_B, alternative='less')"
   ]
  },
  {
   "cell_type": "markdown",
   "id": "e8909a13-c5fd-40e7-9787-036033d714ca",
   "metadata": {},
   "source": [
    "#### То же самое сокращенно"
   ]
  },
  {
   "cell_type": "code",
   "execution_count": 270,
   "id": "18db13cb-7e6f-4ada-8499-1ae03beb9ee2",
   "metadata": {},
   "outputs": [
    {
     "data": {
      "text/plain": [
       "0.0347"
      ]
     },
     "execution_count": 270,
     "metadata": {},
     "output_type": "execute_result"
    }
   ],
   "source": [
    "united_samples = pd.concat([samples_A, samples_B])\n",
    "size = len(united_samples)//2\n",
    "\n",
    "boot_diffs = [sample[size:].mean() - sample[:size].mean() \n",
    "              for sample in (united_samples.sample(frac=1, replace=True)\n",
    "              for _ in range(10000))\n",
    "             ]\n",
    "pvalue = np.mean(boot_diffs >= AB_difference)\n",
    "pvalue"
   ]
  },
  {
   "cell_type": "markdown",
   "id": "27f7efdf-61ee-4f02-80ac-662d27a01e55",
   "metadata": {},
   "source": [
    "### Boorstrap для моделей"
   ]
  },
  {
   "cell_type": "code",
   "execution_count": 738,
   "id": "b24845fb-a010-46ed-9311-49d1ad6a67b5",
   "metadata": {},
   "outputs": [
    {
     "name": "stdout",
     "output_type": "stream",
     "text": [
      "Средняя выручка: 9167.0\n",
      "1%-квантиль: 6000.0\n"
     ]
    }
   ],
   "source": [
    "target = pd.read_csv('datasets/eng_target.csv')['0']\n",
    "probabilities = pd.read_csv('datasets/eng_probabilites.csv')['0']\n",
    "\n",
    "def revenue(target, probabilities, count):\n",
    "    probs_sorted = probabilities.sort_values(ascending=False)\n",
    "    return target[probs_sorted.index][:count].sum() * 1000\n",
    "\n",
    "state = np.random.RandomState(12345)\n",
    "\n",
    "values = pd.Series([\n",
    "    revenue(target[prob.index], prob, 10) \n",
    "    for prob in (\n",
    "        probabilities.sample(25, random_state=state, replace=True) \n",
    "        for _ in range(1000)\n",
    "    )\n",
    "])\n",
    "\n",
    "mean = values.mean()\n",
    "lower = values.quantile(0.01)\n",
    "print(\"Средняя выручка:\", mean)\n",
    "print(\"1%-квантиль:\", lower)"
   ]
  }
 ],
 "metadata": {
  "kernelspec": {
   "display_name": "Python 3 (ipykernel)",
   "language": "python",
   "name": "python3"
  },
  "language_info": {
   "codemirror_mode": {
    "name": "ipython",
    "version": 3
   },
   "file_extension": ".py",
   "mimetype": "text/x-python",
   "name": "python",
   "nbconvert_exporter": "python",
   "pygments_lexer": "ipython3",
   "version": "3.12.4"
  }
 },
 "nbformat": 4,
 "nbformat_minor": 5
}
